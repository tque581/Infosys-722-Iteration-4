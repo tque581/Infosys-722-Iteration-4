{
 "cells": [
  {
   "cell_type": "markdown",
   "metadata": {},
   "source": [
    "# KMeans Clustering"
   ]
  },
  {
   "cell_type": "code",
   "execution_count": 1,
   "metadata": {},
   "outputs": [],
   "source": [
    "import findspark\n",
    "findspark.init()\n",
    "import pyspark"
   ]
  },
  {
   "cell_type": "code",
   "execution_count": 2,
   "metadata": {},
   "outputs": [],
   "source": [
    "from pyspark import SparkContext, SparkConf\n",
    "from pyspark.sql import SparkSession\n",
    "conf = pyspark.SparkConf().setAppName('Data_mining').setMaster('local')\n",
    "sc = pyspark.SparkContext(conf=conf)\n",
    "spark = SparkSession(sc)"
   ]
  },
  {
   "cell_type": "code",
   "execution_count": 3,
   "metadata": {},
   "outputs": [],
   "source": [
    "import numpy as np\n",
    "from pyspark.ml.linalg import Vectors\n",
    "from pyspark.ml.feature import VectorAssembler, StandardScaler\n",
    "from pyspark.ml.clustering import KMeans, KMeansModel\n",
    "from pyspark.ml.evaluation import ClusteringEvaluator\n",
    "from pyspark.sql.functions import when, count, col, desc, asc, row_number, mean\n",
    "from pyspark.sql.types import (StructField,FloatType,IntegerType,StructType)"
   ]
  },
  {
   "cell_type": "code",
   "execution_count": 4,
   "metadata": {},
   "outputs": [],
   "source": [
    "df = spark.read.load(\"C:/Users/Tian/Documents/datasets/df_final.csv\", format=\"csv\", header=\"true\")\n",
    "df = (df.withColumn(\"Human_Development_Index\", df[\"Human_Development_Index\"].cast(\"float\")) \\\n",
    "      .withColumn(\"Total_Case\", df[\"Total_Case\"].cast(\"float\")) \\\n",
    "      .withColumn(\"Total_Death\", df[\"Total_Death\"].cast(\"float\")) \\\n",
    "      .withColumn(\"GDP\", df[\"GDP\"].cast(\"float\")) \\\n",
    "      .withColumn(\"GDP/Capita\", df[\"GDP/Capita\"].cast(\"float\"))\n",
    "      .withColumn(\"Poverty_Rate_(%)\", df[\"Poverty_Rate_(%)\"].cast(\"float\")))\n",
    "dm = df"
   ]
  },
  {
   "cell_type": "code",
   "execution_count": 5,
   "metadata": {},
   "outputs": [
    {
     "name": "stdout",
     "output_type": "stream",
     "text": [
      "train_data:  103\n",
      "test_data:  40\n"
     ]
    }
   ],
   "source": [
    "train_data,test_data = df.randomSplit([0.7,0.3])\n",
    "print(\"train_data: \", train_data.count())\n",
    "print(\"test_data: \", test_data.count())"
   ]
  },
  {
   "cell_type": "code",
   "execution_count": 6,
   "metadata": {},
   "outputs": [],
   "source": [
    "assembler = VectorAssembler(inputCols= df.columns, outputCol='features')\n",
    "features = df.rdd.map(lambda r: r.features.array)\n",
    "df = assembler.transform(df)"
   ]
  },
  {
   "cell_type": "code",
   "execution_count": 7,
   "metadata": {},
   "outputs": [],
   "source": [
    "scaler = StandardScaler(inputCol='features', outputCol='scaledFeatures', withStd=True)\n",
    "scaledModel = scaler.fit(df)\n",
    "df = scaledModel.transform(df)"
   ]
  },
  {
   "cell_type": "code",
   "execution_count": 8,
   "metadata": {},
   "outputs": [
    {
     "name": "stdout",
     "output_type": "stream",
     "text": [
      "KMeansModel: uid=KMeans_ff4405f2043c, k=2, distanceMeasure=euclidean, numFeatures=6\n"
     ]
    }
   ],
   "source": [
    "kmeans = KMeans(featuresCol='scaledFeatures', k=2)\n",
    "model = kmeans.fit(df)\n",
    "prediction = model.transform(df)\n",
    "print(model)"
   ]
  },
  {
   "cell_type": "code",
   "execution_count": 9,
   "metadata": {},
   "outputs": [],
   "source": [
    "eval = ClusteringEvaluator()"
   ]
  },
  {
   "cell_type": "code",
   "execution_count": 10,
   "metadata": {},
   "outputs": [
    {
     "name": "stdout",
     "output_type": "stream",
     "text": [
      "Silhoutte with squared euclidean distance: 0.6645799501535241\n"
     ]
    }
   ],
   "source": [
    "silhouette = eval.evaluate(prediction)\n",
    "print(f\"Silhoutte with squared euclidean distance: {silhouette}\")"
   ]
  },
  {
   "cell_type": "code",
   "execution_count": 11,
   "metadata": {},
   "outputs": [
    {
     "name": "stdout",
     "output_type": "stream",
     "text": [
      "['Human_Development_Index', 'Total_Case', 'Total_Death', 'GDP/Capita', 'GDP', 'Poverty_Rate_(%)']\n",
      "Cluster centers:\n",
      "[4.77659186 6.91714522 3.56499457 8.38187138 6.76320686 0.20133645]\n",
      "[3.21169814 5.79733544 2.52525685 6.81166103 5.30521967 1.80105946]\n"
     ]
    }
   ],
   "source": [
    "print(dm.columns)\n",
    "centers = model.clusterCenters()\n",
    "print(\"Cluster centers:\")\n",
    "for c in centers:\n",
    "    print(c)"
   ]
  }
 ],
 "metadata": {
  "kernelspec": {
   "display_name": "Python 3",
   "language": "python",
   "name": "python3"
  },
  "language_info": {
   "codemirror_mode": {
    "name": "ipython",
    "version": 3
   },
   "file_extension": ".py",
   "mimetype": "text/x-python",
   "name": "python",
   "nbconvert_exporter": "python",
   "pygments_lexer": "ipython3",
   "version": "3.8.5"
  }
 },
 "nbformat": 4,
 "nbformat_minor": 4
}
