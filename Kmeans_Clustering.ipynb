{
 "cells": [
  {
   "cell_type": "markdown",
   "metadata": {},
   "source": [
    "# KMeans Clustering"
   ]
  },
  {
   "cell_type": "code",
   "execution_count": 1,
   "metadata": {},
   "outputs": [],
   "source": [
    "import findspark\n",
    "findspark.init()\n",
    "import pyspark"
   ]
  },
  {
   "cell_type": "code",
   "execution_count": 2,
   "metadata": {},
   "outputs": [],
   "source": [
    "from pyspark import SparkContext, SparkConf\n",
    "from pyspark.sql import SparkSession\n",
    "conf = pyspark.SparkConf().setAppName('Data_mining').setMaster('local')\n",
    "sc = pyspark.SparkContext(conf=conf)\n",
    "spark = SparkSession(sc)"
   ]
  },
  {
   "cell_type": "code",
   "execution_count": 3,
   "metadata": {},
   "outputs": [],
   "source": [
    "import numpy as np\n",
    "from pyspark.ml.linalg import Vectors\n",
    "from pyspark.ml.feature import VectorAssembler, StandardScaler\n",
    "from pyspark.ml.clustering import KMeans, KMeansModel\n",
    "from pyspark.ml.evaluation import ClusteringEvaluator\n",
    "from pyspark.sql.functions import when, count, col, desc, asc, row_number, mean\n",
    "from pyspark.sql.types import (StructField,FloatType,IntegerType,StructType)"
   ]
  },
  {
   "cell_type": "code",
   "execution_count": 4,
   "metadata": {},
   "outputs": [],
   "source": [
    "df = spark.read.load(\"C:/Users/Tian/Documents/datasets/df_final.csv\", format=\"csv\", header=\"true\")\n",
    "df = (df.withColumn(\"Human_Development_Index\", df[\"Human_Development_Index\"].cast(\"float\")) \\\n",
    "      .withColumn(\"Total_Case\", df[\"Total_Case\"].cast(\"float\")) \\\n",
    "      .withColumn(\"Total_Death\", df[\"Total_Death\"].cast(\"float\")) \\\n",
    "      .withColumn(\"GDP\", df[\"GDP\"].cast(\"float\")) \\\n",
    "      .withColumn(\"GDP/Capita\", df[\"GDP/Capita\"].cast(\"float\"))\n",
    "      .withColumn(\"Poverty_Rate_(%)\", df[\"Poverty_Rate_(%)\"].cast(\"float\")))\n",
    "dm = df"
   ]
  },
  {
   "cell_type": "code",
   "execution_count": 5,
   "metadata": {},
   "outputs": [
    {
     "name": "stdout",
     "output_type": "stream",
     "text": [
      "train_data:  91\n",
      "test_data:  52\n"
     ]
    }
   ],
   "source": [
    "train_data,test_data = df.randomSplit([0.7,0.3])\n",
    "print(\"train_data: \", train_data.count())\n",
    "print(\"test_data: \", test_data.count())"
   ]
  },
  {
   "cell_type": "code",
   "execution_count": 6,
   "metadata": {},
   "outputs": [],
   "source": [
    "assembler = VectorAssembler(inputCols= df.columns, outputCol='features')\n",
    "features = df.rdd.map(lambda r: r.features.array)\n",
    "df = assembler.transform(df)"
   ]
  },
  {
   "cell_type": "code",
   "execution_count": 7,
   "metadata": {},
   "outputs": [],
   "source": [
    "scaler = StandardScaler(inputCol='features', outputCol='scaledFeatures', withStd=True)\n",
    "scaledModel = scaler.fit(df)\n",
    "df = scaledModel.transform(df)"
   ]
  },
  {
   "cell_type": "code",
   "execution_count": 8,
   "metadata": {},
   "outputs": [
    {
     "name": "stdout",
     "output_type": "stream",
     "text": [
      "+-----------------------+----------+-----------+----------+----------+----------------+--------------------+--------------------+-------+\n",
      "|Human_Development_Index|Total_Case|Total_Death|GDP/Capita|       GDP|Poverty_Rate_(%)|            features|      scaledFeatures|cluster|\n",
      "+-----------------------+----------+-----------+----------+----------+----------------+--------------------+--------------------+-------+\n",
      "|                  0.519|   9.72973|  5.4722705|  7.255902| 124.34163|            90.9|[0.51899999380111...|[3.07824805099661...|      1|\n",
      "|                  0.417|  6.295266|        0.0|  6.554254|106.777145|            89.6|[0.41699999570846...|[2.47327444968539...|      1|\n",
      "|                  0.477|  8.675393|   5.198497|  6.998548| 117.34302|            89.6|[0.47699999809265...|[2.82914129478151...|      1|\n",
      "|                   0.71|  9.976088|   4.804021|  8.740833| 151.44487|            86.2|[0.70999997854232...|[4.21109070570253...|      1|\n",
      "|                  0.455| 7.7786303|   3.713572| 7.3451552| 106.44986|            85.4|[0.45500001311302...|[2.69865687918545...|      1|\n",
      "|                  0.367|  8.487764|  4.1271343|  6.494117|  99.94646|            82.9|[0.36700001358985...|[2.17671886327926...|      1|\n",
      "|                  0.437|  9.293394|   4.317488| 7.0353594| 121.41415|            82.4|[0.43700000643730...|[2.59189679030442...|      1|\n",
      "|                  0.524|   8.51198|  3.5263605| 7.5252147| 123.23877|            80.3|[0.52399998903274...|[3.10790359196112...|      1|\n",
      "|                  0.427|  8.125335|   4.882802|   7.60803|127.995255|            79.8|[0.42699998617172...|[2.53258553161442...|      1|\n",
      "|                  0.354|  7.098376|  4.2341065| 6.8308744| 116.13947|            77.2|[0.35400000214576...|[2.09961431536275...|      1|\n",
      "|                  0.538|  6.232448|  3.0445225|  7.894804| 141.35974|            76.8|[0.53799998760223...|[3.19093917736616...|      1|\n",
      "|                  0.423| 7.7752757|  4.1743875| 7.4402065| 125.40778|            76.7|[0.42300000786781...|[2.50886120489939...|      1|\n",
      "|                  0.515|  7.822445|   3.713572| 7.6325154| 124.49114|            76.3|[0.51499998569488...|[3.05452354752061...|      1|\n",
      "|                  0.419| 7.7536235|  4.2904596| 7.2372746| 115.01528|            76.0|[0.41899999976158...|[2.48513670142339...|      1|\n",
      "|                  0.435| 7.2276626|   4.406719| 6.6237836| 102.24749|            75.6|[0.43500000238418...|[2.58003453856642...|      1|\n",
      "|                  0.588|  9.671114|   5.846439|  8.213179| 137.38176|            75.4|[0.58799999952316...|[3.48749494053325...|      1|\n",
      "|                  0.503|  7.629004|  3.9318256|  7.265299| 115.73041|            74.2|[0.50300002098083...|[2.98335039061454...|      1|\n",
      "|                  0.581|  8.917579|   5.484797|  8.668969| 150.04214|            73.2|[0.58099997043609...|[3.44597697106977...|      1|\n",
      "|                  0.532|  9.999706|   6.295266|  8.582691| 164.30759|            71.0|[0.53200000524520...|[3.15535259891312...|      1|\n",
      "|                  0.459|  9.351666|   4.248495|  7.600365| 124.57472|            70.9|[0.45899999141693...|[2.72238120590048...|      1|\n",
      "+-----------------------+----------+-----------+----------+----------+----------------+--------------------+--------------------+-------+\n",
      "only showing top 20 rows\n",
      "\n"
     ]
    }
   ],
   "source": [
    "kmeans = KMeans(featuresCol='scaledFeatures', k=2)\n",
    "model = kmeans.fit(df)\n",
    "transformed = model.transform(df)\n",
    "kmeans_labeled = KMeans(featuresCol='scaledFeatures', k=2, predictionCol =\"cluster\")\n",
    "model_labeled = kmeans_labeled.fit(df)\n",
    "prediction_labeled = model_labeled.transform(df)\n",
    "#print(model_labeled)\n",
    "prediction_labeled.show()"
   ]
  },
  {
   "cell_type": "code",
   "execution_count": 9,
   "metadata": {},
   "outputs": [],
   "source": [
    "eval = ClusteringEvaluator()"
   ]
  },
  {
   "cell_type": "code",
   "execution_count": 10,
   "metadata": {},
   "outputs": [
    {
     "name": "stdout",
     "output_type": "stream",
     "text": [
      "Silhoutte with squared euclidean distance: 0.6645799501535241\n"
     ]
    }
   ],
   "source": [
    "silhouette = eval.evaluate(transformed)\n",
    "print(f\"Silhoutte with squared euclidean distance: {silhouette}\")"
   ]
  },
  {
   "cell_type": "code",
   "execution_count": 11,
   "metadata": {},
   "outputs": [
    {
     "name": "stdout",
     "output_type": "stream",
     "text": [
      "['Human_Development_Index', 'Total_Case', 'Total_Death', 'GDP/Capita', 'GDP', 'Poverty_Rate_(%)']\n",
      "Cluster centers:\n",
      "[4.77659186 6.91714522 3.56499457 8.38187138 6.76320686 0.20133645]\n",
      "[3.21169814 5.79733544 2.52525685 6.81166103 5.30521967 1.80105946]\n"
     ]
    }
   ],
   "source": [
    "print(dm.columns)\n",
    "centers = model_labeled.clusterCenters()\n",
    "print(\"Cluster centers:\")\n",
    "for c in centers:\n",
    "    print(c)"
   ]
  }
 ],
 "metadata": {
  "kernelspec": {
   "display_name": "Python 3",
   "language": "python",
   "name": "python3"
  },
  "language_info": {
   "codemirror_mode": {
    "name": "ipython",
    "version": 3
   },
   "file_extension": ".py",
   "mimetype": "text/x-python",
   "name": "python",
   "nbconvert_exporter": "python",
   "pygments_lexer": "ipython3",
   "version": "3.8.5"
  }
 },
 "nbformat": 4,
 "nbformat_minor": 4
}
