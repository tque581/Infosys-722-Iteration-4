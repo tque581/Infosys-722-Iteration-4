{
 "cells": [
  {
   "cell_type": "code",
   "execution_count": 2,
   "metadata": {},
   "outputs": [],
   "source": [
    "import findspark\n",
    "findspark.init('/home/ubuntu/spark-2.1.1-bin-hadoop2.7')\n",
    "import pyspark\n",
    "from pyspark import SparkContext\n",
    "from pyspark.sql import SparkSession,Row\n",
    "from pyspark.sql.window import Window\n",
    "from pyspark.sql.functions import when, count, col, desc, asc, row_number, mean\n",
    "from pyspark.sql.types import (StructField,FloatType,IntegerType,StructType)\n",
    "from pyspark.ml.clustering import KMeans, KMeansModel\n",
    "#from pyspark.mllib.clustering import KMeans, KMeansModel\n",
    "from pyspark.ml.linalg import Vectors\n",
    "from pyspark.ml.feature import VectorAssembler, StandardScaler\n",
    "spark = SparkSession.builder.appName('iteration_4').getOrCreate()\n",
    "import numpy as np\n",
    "from numpy import array\n",
    "from math import sqrt"
   ]
  },
  {
   "cell_type": "code",
   "execution_count": 3,
   "metadata": {},
   "outputs": [],
   "source": [
    "df = spark.read.load(\"./datasets/covid19_impact.csv\", format=\"csv\", header=\"true\")"
   ]
  },
  {
   "cell_type": "code",
   "execution_count": 4,
   "metadata": {
    "scrolled": true
   },
   "outputs": [
    {
     "name": "stdout",
     "output_type": "stream",
     "text": [
      "+----+-----------+----------+-----+---+---+---+----------+-----------+\n",
      "|CODE|    COUNTRY|      DATE|  HDI| TC| TD|STI|       POP|     GDPCAP|\n",
      "+----+-----------+----------+-----+---+---+---+----------+-----------+\n",
      "| AFG|Afghanistan|31/12/2019|0.498|  0|  0|  0|17.4772331|7.497754494|\n",
      "| AFG|Afghanistan|01/01/2020|0.498|  0|  0|  0|17.4772331|7.497754494|\n",
      "| AFG|Afghanistan|02/01/2020|0.498|  0|  0|  0|17.4772331|7.497754494|\n",
      "| AFG|Afghanistan|03/01/2020|0.498|  0|  0|  0|17.4772331|7.497754494|\n",
      "| AFG|Afghanistan|04/01/2020|0.498|  0|  0|  0|17.4772331|7.497754494|\n",
      "| AFG|Afghanistan|05/01/2020|0.498|  0|  0|  0|17.4772331|7.497754494|\n",
      "| AFG|Afghanistan|06/01/2020|0.498|  0|  0|  0|17.4772331|7.497754494|\n",
      "| AFG|Afghanistan|07/01/2020|0.498|  0|  0|  0|17.4772331|7.497754494|\n",
      "| AFG|Afghanistan|08/01/2020|0.498|  0|  0|  0|17.4772331|7.497754494|\n",
      "| AFG|Afghanistan|09/01/2020|0.498|  0|  0|  0|17.4772331|7.497754494|\n",
      "| AFG|Afghanistan|10/01/2020|0.498|  0|  0|  0|17.4772331|7.497754494|\n",
      "| AFG|Afghanistan|11/01/2020|0.498|  0|  0|  0|17.4772331|7.497754494|\n",
      "| AFG|Afghanistan|12/01/2020|0.498|  0|  0|  0|17.4772331|7.497754494|\n",
      "| AFG|Afghanistan|13/01/2020|0.498|  0|  0|  0|17.4772331|7.497754494|\n",
      "| AFG|Afghanistan|14/01/2020|0.498|  0|  0|  0|17.4772331|7.497754494|\n",
      "| AFG|Afghanistan|15/01/2020|0.498|  0|  0|  0|17.4772331|7.497754494|\n",
      "| AFG|Afghanistan|16/01/2020|0.498|  0|  0|  0|17.4772331|7.497754494|\n",
      "| AFG|Afghanistan|17/01/2020|0.498|  0|  0|  0|17.4772331|7.497754494|\n",
      "| AFG|Afghanistan|18/01/2020|0.498|  0|  0|  0|17.4772331|7.497754494|\n",
      "| AFG|Afghanistan|19/01/2020|0.498|  0|  0|  0|17.4772331|7.497754494|\n",
      "+----+-----------+----------+-----+---+---+---+----------+-----------+\n",
      "only showing top 20 rows\n",
      "\n"
     ]
    }
   ],
   "source": [
    "df.show()"
   ]
  },
  {
   "cell_type": "code",
   "execution_count": 5,
   "metadata": {},
   "outputs": [
    {
     "data": {
      "text/plain": [
       "50418"
      ]
     },
     "execution_count": 5,
     "metadata": {},
     "output_type": "execute_result"
    }
   ],
   "source": [
    "df.count()"
   ]
  },
  {
   "cell_type": "code",
   "execution_count": 6,
   "metadata": {},
   "outputs": [
    {
     "data": {
      "text/plain": [
       "210"
      ]
     },
     "execution_count": 6,
     "metadata": {},
     "output_type": "execute_result"
    }
   ],
   "source": [
    "df.select(\"COUNTRY\").distinct().count()"
   ]
  },
  {
   "cell_type": "code",
   "execution_count": 7,
   "metadata": {
    "scrolled": true
   },
   "outputs": [
    {
     "name": "stdout",
     "output_type": "stream",
     "text": [
      "root\n",
      " |-- CODE: string (nullable = true)\n",
      " |-- COUNTRY: string (nullable = true)\n",
      " |-- DATE: string (nullable = true)\n",
      " |-- HDI: string (nullable = true)\n",
      " |-- TC: string (nullable = true)\n",
      " |-- TD: string (nullable = true)\n",
      " |-- STI: string (nullable = true)\n",
      " |-- POP: string (nullable = true)\n",
      " |-- GDPCAP: string (nullable = true)\n",
      "\n"
     ]
    }
   ],
   "source": [
    "df.printSchema()"
   ]
  },
  {
   "cell_type": "code",
   "execution_count": 8,
   "metadata": {},
   "outputs": [],
   "source": [
    "dm = spark.read.load(\"./datasets/UNdata_Poverty.csv\", format=\"csv\", header=\"true\")"
   ]
  },
  {
   "cell_type": "code",
   "execution_count": 9,
   "metadata": {},
   "outputs": [
    {
     "name": "stdout",
     "output_type": "stream",
     "text": [
      "+---------------+----+-----+---------------+\n",
      "|Country or Area|Year|Value|Value Footnotes|\n",
      "+---------------+----+-----+---------------+\n",
      "|        Albania|2017|  8.2|              1|\n",
      "|        Albania|2016|  9.4|              1|\n",
      "|        Albania|2015|  8.2|              1|\n",
      "|        Albania|2014| 11.6|              1|\n",
      "|        Albania|2012|  6.2|              2|\n",
      "|        Albania|2008|  5.3|              2|\n",
      "|        Albania|2005|  8.7|              2|\n",
      "|        Albania|2002| 14.1|              2|\n",
      "|        Albania|1996| 11.2|              3|\n",
      "|        Algeria|2011|  3.7|              4|\n",
      "|        Algeria|1995| 23.5|              5|\n",
      "|        Algeria|1988| 24.5|              6|\n",
      "|         Angola|2018| 73.2|              7|\n",
      "|         Angola|2008| 60.6|              8|\n",
      "|         Angola|2000| 59.7|              1|\n",
      "|      Argentina|2018|  3.9|              9|\n",
      "|      Argentina|2017|  3.1|              9|\n",
      "|      Argentina|2016|  3.4|              9|\n",
      "|      Argentina|2014|  3.5|              9|\n",
      "|      Argentina|2013|  3.2|              9|\n",
      "+---------------+----+-----+---------------+\n",
      "only showing top 20 rows\n",
      "\n"
     ]
    }
   ],
   "source": [
    "dm.show()"
   ]
  },
  {
   "cell_type": "code",
   "execution_count": 10,
   "metadata": {},
   "outputs": [
    {
     "data": {
      "text/plain": [
       "2146"
      ]
     },
     "execution_count": 10,
     "metadata": {},
     "output_type": "execute_result"
    }
   ],
   "source": [
    "dm.count()"
   ]
  },
  {
   "cell_type": "code",
   "execution_count": 11,
   "metadata": {},
   "outputs": [
    {
     "data": {
      "text/plain": [
       "179"
      ]
     },
     "execution_count": 11,
     "metadata": {},
     "output_type": "execute_result"
    }
   ],
   "source": [
    "dm.select(\"Country or Area\").distinct().count()"
   ]
  },
  {
   "cell_type": "code",
   "execution_count": 12,
   "metadata": {},
   "outputs": [
    {
     "name": "stdout",
     "output_type": "stream",
     "text": [
      "root\n",
      " |-- Country or Area: string (nullable = true)\n",
      " |-- Year: string (nullable = true)\n",
      " |-- Value: string (nullable = true)\n",
      " |-- Value Footnotes: string (nullable = true)\n",
      "\n"
     ]
    }
   ],
   "source": [
    "dm.printSchema()"
   ]
  },
  {
   "cell_type": "code",
   "execution_count": 13,
   "metadata": {},
   "outputs": [
    {
     "name": "stdout",
     "output_type": "stream",
     "text": [
      "+----+-------+----+----+---+---+---+---+------+\n",
      "|CODE|COUNTRY|DATE| HDI| TC| TD|STI|POP|GDPCAP|\n",
      "+----+-------+----+----+---+---+---+---+------+\n",
      "|   0|      0|   0|6202|  0|  0|  0|  0|     0|\n",
      "+----+-------+----+----+---+---+---+---+------+\n",
      "\n"
     ]
    }
   ],
   "source": [
    "df.select([count(when(col(c).isNull(), c)).alias(c) for c in df.columns]).show()"
   ]
  },
  {
   "cell_type": "code",
   "execution_count": 14,
   "metadata": {},
   "outputs": [
    {
     "name": "stdout",
     "output_type": "stream",
     "text": [
      "+---------------+----+-----+---------------+\n",
      "|Country or Area|Year|Value|Value Footnotes|\n",
      "+---------------+----+-----+---------------+\n",
      "|              0|   0|   47|            209|\n",
      "+---------------+----+-----+---------------+\n",
      "\n"
     ]
    }
   ],
   "source": [
    "dm.select([count(when(col(c).isNull(), c)).alias(c) for c in dm.columns]).show()"
   ]
  },
  {
   "cell_type": "code",
   "execution_count": 15,
   "metadata": {},
   "outputs": [
    {
     "data": {
      "text/plain": [
       "['CODE', 'COUNTRY', 'DATE', 'HDI', 'TC', 'TD', 'STI', 'POP', 'GDPCAP']"
      ]
     },
     "execution_count": 15,
     "metadata": {},
     "output_type": "execute_result"
    }
   ],
   "source": [
    "df.columns"
   ]
  },
  {
   "cell_type": "code",
   "execution_count": 16,
   "metadata": {},
   "outputs": [
    {
     "name": "stdout",
     "output_type": "stream",
     "text": [
      "+--------------------+----+-----+---------------+\n",
      "|     Country or Area|Year|Value|Value Footnotes|\n",
      "+--------------------+----+-----+---------------+\n",
      "|             Albania|2017|  8.2|              1|\n",
      "|             Algeria|2011|  3.7|              4|\n",
      "|              Angola|2018| 73.2|              7|\n",
      "|           Argentina|2018|  3.9|              9|\n",
      "|             Armenia|2018|  9.4|             12|\n",
      "|           Australia|2014|  0.7|             13|\n",
      "|             Austria|2017|  0.4|             17|\n",
      "|          Azerbaijan|2005|    0|              1|\n",
      "|          Bangladesh|2016| 52.5|             21|\n",
      "|             Belarus|2018|    0|             24|\n",
      "|             Belgium|2017|  0.2|             17|\n",
      "|              Belize|1999| 27.7|             27|\n",
      "|               Benin|2015| 76.3|             29|\n",
      "|              Bhutan|2017| 12.2|             31|\n",
      "|             Bolivia|2018| 10.5|             32|\n",
      "|Bosnia and Herzeg...|2011|  0.7|              1|\n",
      "|            Botswana|2015| 36.5|             37|\n",
      "|              Brazil|2018|  9.1|             40|\n",
      "|            Bulgaria|2017|  3.3|             17|\n",
      "|        Burkina Faso|2014| 76.7|             42|\n",
      "+--------------------+----+-----+---------------+\n",
      "only showing top 20 rows\n",
      "\n"
     ]
    }
   ],
   "source": [
    "# Selecting items\n",
    "w = Window.partitionBy(\"Country or Area\").orderBy(col(\"Year\").desc())\n",
    "dm2 = dm.withColumn(\"row\",row_number().over(w)) \\\n",
    "      .filter(col(\"row\") == 1).drop(\"row\") \\\n",
    "      .orderBy(col(\"Country or Area\").asc())\n",
    "dm2.show()"
   ]
  },
  {
   "cell_type": "code",
   "execution_count": 17,
   "metadata": {},
   "outputs": [
    {
     "name": "stdout",
     "output_type": "stream",
     "text": [
      "+----+-------------------+----------+-----+-----------+-----------+-----------+-----------+-----------+\n",
      "|CODE|            COUNTRY|      DATE|  HDI|         TC|         TD|        STI|        POP|     GDPCAP|\n",
      "+----+-------------------+----------+-----+-----------+-----------+-----------+-----------+-----------+\n",
      "| AFG|        Afghanistan|10/06/2020|0.498|9.973899417|5.950642553|4.365643155| 17.4772331|7.497754494|\n",
      "| ALB|            Albania|19/10/2020|0.785|9.744198695| 6.11146734|          0|14.87253667|9.376145531|\n",
      "| DZA|            Algeria|18/07/2020|0.754|9.996431298|6.963189986|4.305010592|17.59630906|9.540639235|\n",
      "| AND|            Andorra|17/10/2020|0.858| 8.12474302|4.077537444|          0|11.25499635|          0|\n",
      "| AGO|             Angola|19/10/2020|0.581|8.917578754|5.484796933|          0| 17.3079574|8.668968767|\n",
      "| AIA|           Anguilla|03/04/2020| null|1.098612289|          0|4.305010592|9.615938805|          0|\n",
      "| ATG|Antigua and Barbuda|18/10/2020| 0.78|4.779123493|1.098612289|          0|11.49198779| 9.97538687|\n",
      "| ARG|          Argentina|07/06/2020|0.825|9.999115864|6.473890696| 4.48739965|17.62651421|9.848709615|\n",
      "| ARM|            Armenia|24/06/2020|0.755|9.985850643|5.955837369|          0| 14.9017918| 9.08109464|\n",
      "| ABW|              Aruba|19/10/2020| null|8.371473537|3.526360525|          0| 11.5783948|10.49054565|\n",
      "| AUS|          Australia|12/08/2020|0.939|9.985666438|5.802118375|4.371597439|17.05418434|10.70658069|\n",
      "| AUT|            Austria|10/08/2020|0.908|9.999297607|6.580639137|3.449352424|16.01344599|10.72407512|\n",
      "| AZE|         Azerbaijan|09/07/2020|0.757|9.994972243|5.613128106|4.567468319|16.13191719|9.670761927|\n",
      "| BHS|            Bahamas|19/10/2020|0.807|8.648747631|4.804021045|          0|12.88219574|10.22983178|\n",
      "| BHR|            Bahrain|22/06/2020|0.846|9.988012508|4.143134726|4.317488114|14.34706955|10.67569323|\n",
      "| BGD|         Bangladesh|17/05/2020|0.608|9.952039593|5.749392986|4.538175317|18.91957173|8.167347447|\n",
      "| BRB|           Barbados|19/10/2020|  0.8|5.402677382|1.945910149|  3.2554006|12.56852934|9.739677672|\n",
      "| BLR|            Belarus|09/05/2020|0.808|9.957075712|4.795790546|2.631169157|16.06145345|9.750800543|\n",
      "| BEL|            Belgium|03/04/2020|0.916|9.983453334|7.631916513|4.400357591|16.26562008|10.66098361|\n",
      "| BLZ|             Belize|19/10/2020|0.708|7.942006808|3.784189634|          0|12.89325457|8.964997479|\n",
      "+----+-------------------+----------+-----+-----------+-----------+-----------+-----------+-----------+\n",
      "only showing top 20 rows\n",
      "\n"
     ]
    }
   ],
   "source": [
    "# Selecting items\n",
    "w2 = Window.partitionBy(\"COUNTRY\").orderBy(col(\"TC\").desc())\n",
    "df2 = df.withColumn(\"row\",row_number().over(w2)) \\\n",
    "      .filter(col(\"row\") == 1).drop(\"row\") \\\n",
    "      .orderBy(col(\"COUNTRY\").asc())\n",
    "df2.show()"
   ]
  },
  {
   "cell_type": "code",
   "execution_count": 18,
   "metadata": {},
   "outputs": [
    {
     "name": "stdout",
     "output_type": "stream",
     "text": [
      "root\n",
      " |-- COUNTRY: string (nullable = true)\n",
      " |-- DATE: string (nullable = true)\n",
      " |-- HDI: string (nullable = true)\n",
      " |-- TC: string (nullable = true)\n",
      " |-- TD: string (nullable = true)\n",
      " |-- POP: string (nullable = true)\n",
      " |-- GDPCAP: string (nullable = true)\n",
      "\n",
      "root\n",
      " |-- Country or Area: string (nullable = true)\n",
      " |-- Year: string (nullable = true)\n",
      " |-- Value: string (nullable = true)\n",
      "\n",
      "+-------------------+----------+-----+-----------+-----------+-----------+-----------+\n",
      "|            COUNTRY|      DATE|  HDI|         TC|         TD|        POP|     GDPCAP|\n",
      "+-------------------+----------+-----+-----------+-----------+-----------+-----------+\n",
      "|        Afghanistan|10/06/2020|0.498|9.973899417|5.950642553| 17.4772331|7.497754494|\n",
      "|            Albania|19/10/2020|0.785|9.744198695| 6.11146734|14.87253667|9.376145531|\n",
      "|            Algeria|18/07/2020|0.754|9.996431298|6.963189986|17.59630906|9.540639235|\n",
      "|            Andorra|17/10/2020|0.858| 8.12474302|4.077537444|11.25499635|          0|\n",
      "|             Angola|19/10/2020|0.581|8.917578754|5.484796933| 17.3079574|8.668968767|\n",
      "|           Anguilla|03/04/2020| null|1.098612289|          0|9.615938805|          0|\n",
      "|Antigua and Barbuda|18/10/2020| 0.78|4.779123493|1.098612289|11.49198779| 9.97538687|\n",
      "|          Argentina|07/06/2020|0.825|9.999115864|6.473890696|17.62651421|9.848709615|\n",
      "|            Armenia|24/06/2020|0.755|9.985850643|5.955837369| 14.9017918| 9.08109464|\n",
      "|              Aruba|19/10/2020| null|8.371473537|3.526360525| 11.5783948|10.49054565|\n",
      "|          Australia|12/08/2020|0.939|9.985666438|5.802118375|17.05418434|10.70658069|\n",
      "|            Austria|10/08/2020|0.908|9.999297607|6.580639137|16.01344599|10.72407512|\n",
      "|         Azerbaijan|09/07/2020|0.757|9.994972243|5.613128106|16.13191719|9.670761927|\n",
      "|            Bahamas|19/10/2020|0.807|8.648747631|4.804021045|12.88219574|10.22983178|\n",
      "|            Bahrain|22/06/2020|0.846|9.988012508|4.143134726|14.34706955|10.67569323|\n",
      "|         Bangladesh|17/05/2020|0.608|9.952039593|5.749392986|18.91957173|8.167347447|\n",
      "|           Barbados|19/10/2020|  0.8|5.402677382|1.945910149|12.56852934|9.739677672|\n",
      "|            Belarus|09/05/2020|0.808|9.957075712|4.795790546|16.06145345|9.750800543|\n",
      "|            Belgium|03/04/2020|0.916|9.983453334|7.631916513|16.26562008|10.66098361|\n",
      "|             Belize|19/10/2020|0.708|7.942006808|3.784189634|12.89325457|8.964997479|\n",
      "+-------------------+----------+-----+-----------+-----------+-----------+-----------+\n",
      "only showing top 20 rows\n",
      "\n",
      "+--------------------+----+-----+\n",
      "|     Country or Area|Year|Value|\n",
      "+--------------------+----+-----+\n",
      "|             Albania|2017|  8.2|\n",
      "|             Algeria|2011|  3.7|\n",
      "|              Angola|2018| 73.2|\n",
      "|           Argentina|2018|  3.9|\n",
      "|             Armenia|2018|  9.4|\n",
      "|           Australia|2014|  0.7|\n",
      "|             Austria|2017|  0.4|\n",
      "|          Azerbaijan|2005|    0|\n",
      "|          Bangladesh|2016| 52.5|\n",
      "|             Belarus|2018|    0|\n",
      "|             Belgium|2017|  0.2|\n",
      "|              Belize|1999| 27.7|\n",
      "|               Benin|2015| 76.3|\n",
      "|              Bhutan|2017| 12.2|\n",
      "|             Bolivia|2018| 10.5|\n",
      "|Bosnia and Herzeg...|2011|  0.7|\n",
      "|            Botswana|2015| 36.5|\n",
      "|              Brazil|2018|  9.1|\n",
      "|            Bulgaria|2017|  3.3|\n",
      "|        Burkina Faso|2014| 76.7|\n",
      "+--------------------+----+-----+\n",
      "only showing top 20 rows\n",
      "\n"
     ]
    }
   ],
   "source": [
    "# drop columns\n",
    "df3 = df2.drop(\"CODE\", \"STI\")\n",
    "dm3 = dm2.drop(\"Value Footnotes\")\n",
    "df3.printSchema()\n",
    "dm3.printSchema()\n",
    "df3.show()\n",
    "dm3.show()"
   ]
  },
  {
   "cell_type": "code",
   "execution_count": 19,
   "metadata": {},
   "outputs": [
    {
     "name": "stdout",
     "output_type": "stream",
     "text": [
      "+-------+----+---+---+---+---+------+\n",
      "|COUNTRY|DATE|HDI| TC| TD|POP|GDPCAP|\n",
      "+-------+----+---+---+---+---+------+\n",
      "|      0|   0| 28|  0|  0|  0|     0|\n",
      "+-------+----+---+---+---+---+------+\n",
      "\n",
      "+---------------+----+-----+\n",
      "|Country or Area|Year|Value|\n",
      "+---------------+----+-----+\n",
      "|              0|   0|    0|\n",
      "+---------------+----+-----+\n",
      "\n",
      "0.7064175824175828\n"
     ]
    }
   ],
   "source": [
    "# checking null and mean value\n",
    "df3.select([count(when(col(c).isNull(), c)).alias(c) for c in df3.columns]).show()\n",
    "dm3.select([count(when(col(c).isNull(), c)).alias(c) for c in dm3.columns]).show()\n",
    "mean_hdi = df3.select(mean(df3['HDI'])).collect()\n",
    "mean_hdi_val = mean_hdi[0][0]\n",
    "print(mean_hdi_val)\n",
    "\n"
   ]
  },
  {
   "cell_type": "code",
   "execution_count": 20,
   "metadata": {},
   "outputs": [
    {
     "name": "stdout",
     "output_type": "stream",
     "text": [
      "+-------+----+---+---+---+---+------+\n",
      "|COUNTRY|DATE|HDI| TC| TD|POP|GDPCAP|\n",
      "+-------+----+---+---+---+---+------+\n",
      "|      0|   0|  0|  0|  0|  0|     0|\n",
      "+-------+----+---+---+---+---+------+\n",
      "\n"
     ]
    }
   ],
   "source": [
    "# replacing null\n",
    "df4 = df3.na.fill('0.7064', subset=['HDI'])\n",
    "df4.select([count(when(col(c).isNull(), c)).alias(c) for c in df4.columns]).show()\n",
    "df5 = df4.drop(\"DATE\")"
   ]
  },
  {
   "cell_type": "code",
   "execution_count": 21,
   "metadata": {},
   "outputs": [
    {
     "name": "stdout",
     "output_type": "stream",
     "text": [
      "root\n",
      " |-- COUNTRY: string (nullable = true)\n",
      " |-- HDI: float (nullable = true)\n",
      " |-- TC: float (nullable = true)\n",
      " |-- TD: float (nullable = true)\n",
      " |-- POP: float (nullable = true)\n",
      " |-- GDPCAP: float (nullable = true)\n",
      "\n",
      "root\n",
      " |-- Country or Area: string (nullable = true)\n",
      " |-- Year: integer (nullable = true)\n",
      " |-- Value: float (nullable = true)\n",
      "\n"
     ]
    }
   ],
   "source": [
    "# data casting\n",
    "df_cast = (df5.withColumn(\"HDI\", df5[\"HDI\"].cast(\"float\")) \\\n",
    "       .withColumn(\"TC\", df5[\"TC\"].cast(\"float\")) \\\n",
    "       .withColumn(\"TD\", df5[\"TD\"].cast(\"float\")) \\\n",
    "       .withColumn(\"POP\", df5[\"POP\"].cast(\"float\")) \\\n",
    "       .withColumn(\"GDPCAP\", df5[\"GDPCAP\"].cast(\"float\")))\n",
    "dm_cast = (dm3.withColumn(\"Year\", dm3[\"Year\"].cast(IntegerType())) \\\n",
    "           .withColumn(\"Value\", dm3[\"Value\"].cast(\"float\")))\n",
    "df_cast.printSchema()\n",
    "dm_cast.printSchema()"
   ]
  },
  {
   "cell_type": "code",
   "execution_count": 22,
   "metadata": {},
   "outputs": [
    {
     "name": "stdout",
     "output_type": "stream",
     "text": [
      "+-------------------+-----------------------+----------+-----------+----------+----------+----------+\n",
      "|            COUNTRY|Human_Development_Index|Total_Case|Total_Death|Population|GDP/Capita|       GDP|\n",
      "+-------------------+-----------------------+----------+-----------+----------+----------+----------+\n",
      "|        Afghanistan|                  0.498|    9.9739|  5.9506426| 17.477234| 7.4977546| 131.04001|\n",
      "|            Albania|                  0.785|  9.744199|  6.1114674| 14.872537|  9.376145| 139.44707|\n",
      "|            Algeria|                  0.754|  9.996431|    6.96319|  17.59631|  9.540639| 167.88004|\n",
      "|            Andorra|                  0.858|  8.124743|  4.0775375| 11.254996|       0.0|       0.0|\n",
      "|             Angola|                  0.581|  8.917579|   5.484797| 17.307957|  8.668969| 150.04214|\n",
      "|           Anguilla|                 0.7064| 1.0986123|        0.0|  9.615939|       0.0|       0.0|\n",
      "|Antigua and Barbuda|                   0.78| 4.7791233|  1.0986123| 11.491988|  9.975387|114.637024|\n",
      "|          Argentina|                  0.825|  9.999116|   6.473891| 17.626514|   9.84871| 173.59843|\n",
      "|            Armenia|                  0.755|   9.98585|  5.9558372| 14.901792|  9.081095| 135.32458|\n",
      "|              Aruba|                 0.7064|  8.371473|  3.5263605| 11.578395| 10.490545| 121.46368|\n",
      "|          Australia|                  0.939|  9.985666|  5.8021183| 17.054184| 10.706581| 182.59201|\n",
      "|            Austria|                  0.908|  9.999297|  6.5806394| 16.013447| 10.724075| 171.72942|\n",
      "|         Azerbaijan|                  0.757|  9.994972|   5.613128| 16.131918|  9.670762| 156.00793|\n",
      "|            Bahamas|                  0.807|  8.648747|   4.804021| 12.882195| 10.229832| 131.78268|\n",
      "|            Bahrain|                  0.846|  9.988012|  4.1431346|  14.34707|10.6756935| 153.16492|\n",
      "|         Bangladesh|                  0.608|   9.95204|   5.749393|  18.91957|  8.167348| 154.52272|\n",
      "|           Barbados|                    0.8| 5.4026775|  1.9459101| 12.568529|  9.739677| 122.41342|\n",
      "|            Belarus|                  0.808|  9.957076|  4.7957907| 16.061453|    9.7508| 156.61201|\n",
      "|            Belgium|                  0.916|  9.983454|  7.6319165|  16.26562| 10.660984|  173.4075|\n",
      "|             Belize|                  0.708| 7.9420066|  3.7841897| 12.893254|  8.964997| 115.58799|\n",
      "+-------------------+-----------------------+----------+-----------+----------+----------+----------+\n",
      "only showing top 20 rows\n",
      "\n",
      "root\n",
      " |-- COUNTRY: string (nullable = true)\n",
      " |-- Human_Development_Index: float (nullable = true)\n",
      " |-- Total_Case: float (nullable = true)\n",
      " |-- Total_Death: float (nullable = true)\n",
      " |-- Population: float (nullable = true)\n",
      " |-- GDP/Capita: float (nullable = true)\n",
      " |-- GDP: float (nullable = true)\n",
      "\n"
     ]
    }
   ],
   "source": [
    "# renaming\n",
    "df6 = df_cast.withColumn(\"GDP\", df_cast.GDPCAP*df_cast.POP)\n",
    "df7 = (df6.withColumnRenamed('HDI','Human_Development_Index') \\\n",
    "       .withColumnRenamed('TC', 'Total_Case') \\\n",
    "       .withColumnRenamed('TD', 'Total_Death') \\\n",
    "       .withColumnRenamed('POP', 'Population') \\\n",
    "       .withColumnRenamed('GDPCAP', 'GDP/Capita'))\n",
    "df7.show()\n",
    "df7.printSchema()\n",
    "dm4 = dm_cast.withColumnRenamed('Value','Poverty_Rate_(%)')"
   ]
  },
  {
   "cell_type": "code",
   "execution_count": 23,
   "metadata": {},
   "outputs": [
    {
     "name": "stdout",
     "output_type": "stream",
     "text": [
      "+--------+-----------------------+----------+-----------+----------+----------+--------+----+----------------+\n",
      "| COUNTRY|Human_Development_Index|Total_Case|Total_Death|Population|GDP/Capita|     GDP|Year|Poverty_Rate_(%)|\n",
      "+--------+-----------------------+----------+-----------+----------+----------+--------+----+----------------+\n",
      "| Albania|                  0.785|  9.744199|   6.111...|  14.87...|  9.376145|139.4...|2017|             8.2|\n",
      "| Algeria|                  0.754|  9.996431|    6.96319|  17.59631|  9.540639|167.8...|2011|             3.7|\n",
      "|  Angola|                  0.581|  8.917579|   5.484797|  17.30...|  8.668969|150.0...|2018|            73.2|\n",
      "|Argen...|                  0.825|  9.999116|   6.473891|  17.62...|   9.84871|173.5...|2018|             3.9|\n",
      "| Armenia|                  0.755|   9.98585|   5.955...|  14.90...|  9.081095|135.3...|2018|             9.4|\n",
      "|Austr...|                  0.939|  9.985666|   5.802...|  17.05...|  10.70...|182.5...|2014|             0.7|\n",
      "| Austria|                  0.908|  9.999297|   6.580...|  16.01...|  10.72...|171.7...|2017|             0.4|\n",
      "|Azerb...|                  0.757|  9.994972|   5.613128|  16.13...|  9.670762|156.0...|2005|             0.0|\n",
      "|Bangl...|                  0.608|   9.95204|   5.749393|  18.91957|  8.167348|154.5...|2016|            52.5|\n",
      "| Belarus|                  0.808|  9.957076|   4.795...|  16.06...|    9.7508|156.6...|2018|             0.0|\n",
      "| Belgium|                  0.916|  9.983454|   7.631...|  16.26562|  10.66...|173.4075|2017|             0.2|\n",
      "|  Belize|                  0.708|  7.942...|   3.784...|  12.89...|  8.964997|115.5...|1999|            27.7|\n",
      "|   Benin|                  0.515|  7.822445|   3.713572|  16.31063|  7.632...|124.4...|2015|            76.3|\n",
      "|  Bhutan|                  0.612|  5.789...|        0.0|  13.55...|  9.072066|122.9...|2017|            12.2|\n",
      "| Bolivia|                  0.693|  9.975761|   6.546...|  16.27279|  8.837221|143.8...|2018|            10.5|\n",
      "|Bosni...|                  0.768|  9.997024|   6.505784|  15.00...|  9.368531|140.5617|2011|             0.7|\n",
      "|Botswana|                  0.717|  8.564459|   2.995...|  14.67...|  9.668232|141.8...|2015|            36.5|\n",
      "|  Brazil|                  0.759|  9.939193|   7.024649|  19.17...|  9.554174|183.1...|2018|             9.1|\n",
      "|Bulgaria|                  0.813|  9.992871|   6.749...|  15.75...|  9.828942|154.8...|2017|             3.3|\n",
      "|Burki...|                  0.423|  7.775...|   4.174...|  16.85...|  7.440...|125.4...|2014|            76.7|\n",
      "+--------+-----------------------+----------+-----------+----------+----------+--------+----+----------------+\n",
      "only showing top 20 rows\n",
      "\n"
     ]
    },
    {
     "data": {
      "text/plain": [
       "143"
      ]
     },
     "execution_count": 23,
     "metadata": {},
     "output_type": "execute_result"
    }
   ],
   "source": [
    "# Integrate various data sources\n",
    "merged_data = df7.join(dm4,df7[\"COUNTRY\"] == dm4[\"Country or Area\"])\n",
    "merged_data = merged_data.drop(\"Country or Area\")\n",
    "merged_data.show(truncate=8)\n",
    "merged_data.count()"
   ]
  },
  {
   "cell_type": "code",
   "execution_count": 24,
   "metadata": {},
   "outputs": [
    {
     "name": "stdout",
     "output_type": "stream",
     "text": [
      "+--------+-----------------------+----------+-----------+----------+----------+--------+----+----------------+\n",
      "| COUNTRY|Human_Development_Index|Total_Case|Total_Death|Population|GDP/Capita|     GDP|Year|Poverty_Rate_(%)|\n",
      "+--------+-----------------------+----------+-----------+----------+----------+--------+----+----------------+\n",
      "|Madag...|                  0.519|   9.72973|   5.472...|  17.13662|  7.255902|124.3...|2012|            90.9|\n",
      "| Burundi|                  0.417|  6.295266|        0.0|  16.29...|  6.554254|106.7...|2013|            89.6|\n",
      "|  Malawi|                  0.477|  8.675393|   5.198497|  16.76...|  6.998548|117.3...|2016|            89.6|\n",
      "|Uzbek...|                   0.71|  9.976088|   4.804021|  17.32...|  8.740833|151.4...|2003|            86.2|\n",
      "|Guine...|                  0.455|  7.778...|   3.713572|  14.49...|  7.345...|106.4...|2010|            85.4|\n",
      "|Centr...|                  0.367|  8.487764|   4.127...|  15.39...|  6.494117|99.94646|2008|            82.9|\n",
      "|Mozam...|                  0.437|  9.293394|   4.317488|  17.25...|  7.035...|121.4...|2014|            82.4|\n",
      "|  Rwanda|                  0.524|   8.51198|   3.526...|  16.37...|  7.525...|123.2...|2016|            80.3|\n",
      "|    Mali|                  0.427|  8.125335|   4.882802|  16.82...|   7.60803|127.9...|2009|            79.8|\n",
      "|   Niger|                  0.354|  7.098376|   4.234...|  17.00...|  6.830...|116.1...|2014|            77.2|\n",
      "|Tanzania|                  0.538|  6.232448|   3.044...|  17.90...|  7.894804|141.3...|2017|            76.8|\n",
      "|Burki...|                  0.423|  7.775...|   4.174...|  16.85...|  7.440...|125.4...|2014|            76.7|\n",
      "|   Benin|                  0.515|  7.822445|   3.713572|  16.31063|  7.632...|124.4...|2015|            76.3|\n",
      "|Sierr...|                  0.419|  7.753...|   4.290...|  15.89...|  7.237...|115.0...|2018|            76.0|\n",
      "| Liberia|                  0.435|  7.227...|   4.406719|  15.43...|  6.623...|102.2...|2016|            75.6|\n",
      "|  Zambia|                  0.588|  9.671114|   5.846439|  16.72699|  8.213179|137.3...|2015|            75.4|\n",
      "|    Togo|                  0.503|  7.629004|   3.931...|  15.92...|  7.265299|115.7...|2015|            74.2|\n",
      "|  Angola|                  0.581|  8.917579|   5.484797|  17.30...|  8.668969|150.0...|2018|            73.2|\n",
      "| Nigeria|                  0.532|  9.999706|   6.295266|  19.14...|  8.582691|164.3...|2018|            71.0|\n",
      "|  Guinea|                  0.459|  9.351666|   4.248495|  16.39...|  7.600365|124.5...|2012|            70.9|\n",
      "+--------+-----------------------+----------+-----------+----------+----------+--------+----+----------------+\n",
      "only showing top 20 rows\n",
      "\n"
     ]
    }
   ],
   "source": [
    "# ordering merged dataset\n",
    "merged_data1 = merged_data.orderBy(col(\"Poverty_Rate_(%)\").desc())\n",
    "merged_data1.show(truncate=8)"
   ]
  },
  {
   "cell_type": "code",
   "execution_count": 25,
   "metadata": {},
   "outputs": [
    {
     "data": {
      "text/html": [
       "<div>\n",
       "<style scoped>\n",
       "    .dataframe tbody tr th:only-of-type {\n",
       "        vertical-align: middle;\n",
       "    }\n",
       "\n",
       "    .dataframe tbody tr th {\n",
       "        vertical-align: top;\n",
       "    }\n",
       "\n",
       "    .dataframe thead th {\n",
       "        text-align: right;\n",
       "    }\n",
       "</style>\n",
       "<table border=\"1\" class=\"dataframe\">\n",
       "  <thead>\n",
       "    <tr style=\"text-align: right;\">\n",
       "      <th></th>\n",
       "      <th>Human_Development_Index</th>\n",
       "      <th>Total_Case</th>\n",
       "      <th>Total_Death</th>\n",
       "      <th>Population</th>\n",
       "      <th>GDP/Capita</th>\n",
       "      <th>GDP</th>\n",
       "      <th>Year</th>\n",
       "      <th>Poverty_Rate_(%)</th>\n",
       "    </tr>\n",
       "  </thead>\n",
       "  <tbody>\n",
       "    <tr>\n",
       "      <th>Human_Development_Index</th>\n",
       "      <td>1.000000</td>\n",
       "      <td>0.335720</td>\n",
       "      <td>0.275682</td>\n",
       "      <td>-0.039802</td>\n",
       "      <td>0.904708</td>\n",
       "      <td>0.694713</td>\n",
       "      <td>0.204135</td>\n",
       "      <td>-0.792687</td>\n",
       "    </tr>\n",
       "    <tr>\n",
       "      <th>Total_Case</th>\n",
       "      <td>0.335720</td>\n",
       "      <td>1.000000</td>\n",
       "      <td>0.843036</td>\n",
       "      <td>0.453416</td>\n",
       "      <td>0.368158</td>\n",
       "      <td>0.585251</td>\n",
       "      <td>0.160745</td>\n",
       "      <td>-0.322620</td>\n",
       "    </tr>\n",
       "    <tr>\n",
       "      <th>Total_Death</th>\n",
       "      <td>0.275682</td>\n",
       "      <td>0.843036</td>\n",
       "      <td>1.000000</td>\n",
       "      <td>0.513503</td>\n",
       "      <td>0.317518</td>\n",
       "      <td>0.591467</td>\n",
       "      <td>0.190197</td>\n",
       "      <td>-0.282964</td>\n",
       "    </tr>\n",
       "    <tr>\n",
       "      <th>Population</th>\n",
       "      <td>-0.039802</td>\n",
       "      <td>0.453416</td>\n",
       "      <td>0.513503</td>\n",
       "      <td>1.000000</td>\n",
       "      <td>-0.071808</td>\n",
       "      <td>0.605519</td>\n",
       "      <td>0.206683</td>\n",
       "      <td>0.134236</td>\n",
       "    </tr>\n",
       "    <tr>\n",
       "      <th>GDP/Capita</th>\n",
       "      <td>0.904708</td>\n",
       "      <td>0.368158</td>\n",
       "      <td>0.317518</td>\n",
       "      <td>-0.071808</td>\n",
       "      <td>1.000000</td>\n",
       "      <td>0.747305</td>\n",
       "      <td>0.208286</td>\n",
       "      <td>-0.860788</td>\n",
       "    </tr>\n",
       "    <tr>\n",
       "      <th>GDP</th>\n",
       "      <td>0.694713</td>\n",
       "      <td>0.585251</td>\n",
       "      <td>0.591467</td>\n",
       "      <td>0.605519</td>\n",
       "      <td>0.747305</td>\n",
       "      <td>1.000000</td>\n",
       "      <td>0.300350</td>\n",
       "      <td>-0.603658</td>\n",
       "    </tr>\n",
       "    <tr>\n",
       "      <th>Year</th>\n",
       "      <td>0.204135</td>\n",
       "      <td>0.160745</td>\n",
       "      <td>0.190197</td>\n",
       "      <td>0.206683</td>\n",
       "      <td>0.208286</td>\n",
       "      <td>0.300350</td>\n",
       "      <td>1.000000</td>\n",
       "      <td>-0.279900</td>\n",
       "    </tr>\n",
       "    <tr>\n",
       "      <th>Poverty_Rate_(%)</th>\n",
       "      <td>-0.792687</td>\n",
       "      <td>-0.322620</td>\n",
       "      <td>-0.282964</td>\n",
       "      <td>0.134236</td>\n",
       "      <td>-0.860788</td>\n",
       "      <td>-0.603658</td>\n",
       "      <td>-0.279900</td>\n",
       "      <td>1.000000</td>\n",
       "    </tr>\n",
       "  </tbody>\n",
       "</table>\n",
       "</div>"
      ],
      "text/plain": [
       "                         Human_Development_Index  Total_Case  Total_Death  \\\n",
       "Human_Development_Index                 1.000000    0.335720     0.275682   \n",
       "Total_Case                              0.335720    1.000000     0.843036   \n",
       "Total_Death                             0.275682    0.843036     1.000000   \n",
       "Population                             -0.039802    0.453416     0.513503   \n",
       "GDP/Capita                              0.904708    0.368158     0.317518   \n",
       "GDP                                     0.694713    0.585251     0.591467   \n",
       "Year                                    0.204135    0.160745     0.190197   \n",
       "Poverty_Rate_(%)                       -0.792687   -0.322620    -0.282964   \n",
       "\n",
       "                         Population  GDP/Capita       GDP      Year  \\\n",
       "Human_Development_Index   -0.039802    0.904708  0.694713  0.204135   \n",
       "Total_Case                 0.453416    0.368158  0.585251  0.160745   \n",
       "Total_Death                0.513503    0.317518  0.591467  0.190197   \n",
       "Population                 1.000000   -0.071808  0.605519  0.206683   \n",
       "GDP/Capita                -0.071808    1.000000  0.747305  0.208286   \n",
       "GDP                        0.605519    0.747305  1.000000  0.300350   \n",
       "Year                       0.206683    0.208286  0.300350  1.000000   \n",
       "Poverty_Rate_(%)           0.134236   -0.860788 -0.603658 -0.279900   \n",
       "\n",
       "                         Poverty_Rate_(%)  \n",
       "Human_Development_Index         -0.792687  \n",
       "Total_Case                      -0.322620  \n",
       "Total_Death                     -0.282964  \n",
       "Population                       0.134236  \n",
       "GDP/Capita                      -0.860788  \n",
       "GDP                             -0.603658  \n",
       "Year                            -0.279900  \n",
       "Poverty_Rate_(%)                 1.000000  "
      ]
     },
     "execution_count": 25,
     "metadata": {},
     "output_type": "execute_result"
    }
   ],
   "source": [
    "panda = merged_data1.toPandas()\n",
    "pearson_col = panda.corr('pearson')\n",
    "pearson_col"
   ]
  },
  {
   "cell_type": "code",
   "execution_count": 26,
   "metadata": {},
   "outputs": [
    {
     "name": "stdout",
     "output_type": "stream",
     "text": [
      "+-----------------------+----------+-----------+----------+----------+----------------+\n",
      "|Human_Development_Index|Total_Case|Total_Death|GDP/Capita|       GDP|Poverty_Rate_(%)|\n",
      "+-----------------------+----------+-----------+----------+----------+----------------+\n",
      "|                  0.519|   9.72973|  5.4722705|  7.255902| 124.34163|            90.9|\n",
      "|                  0.417|  6.295266|        0.0|  6.554254|106.777145|            89.6|\n",
      "|                  0.477|  8.675393|   5.198497|  6.998548| 117.34302|            89.6|\n",
      "|                   0.71|  9.976088|   4.804021|  8.740833| 151.44487|            86.2|\n",
      "|                  0.455| 7.7786303|   3.713572| 7.3451552| 106.44986|            85.4|\n",
      "|                  0.367|  8.487764|  4.1271343|  6.494117|  99.94646|            82.9|\n",
      "|                  0.437|  9.293394|   4.317488| 7.0353594| 121.41415|            82.4|\n",
      "|                  0.524|   8.51198|  3.5263605| 7.5252147| 123.23877|            80.3|\n",
      "|                  0.427|  8.125335|   4.882802|   7.60803|127.995255|            79.8|\n",
      "|                  0.354|  7.098376|  4.2341065| 6.8308744| 116.13947|            77.2|\n",
      "|                  0.538|  6.232448|  3.0445225|  7.894804| 141.35974|            76.8|\n",
      "|                  0.423| 7.7752757|  4.1743875| 7.4402065| 125.40778|            76.7|\n",
      "|                  0.515|  7.822445|   3.713572| 7.6325154| 124.49114|            76.3|\n",
      "|                  0.419| 7.7536235|  4.2904596| 7.2372746| 115.01528|            76.0|\n",
      "|                  0.435| 7.2276626|   4.406719| 6.6237836| 102.24749|            75.6|\n",
      "|                  0.588|  9.671114|   5.846439|  8.213179| 137.38176|            75.4|\n",
      "|                  0.503|  7.629004|  3.9318256|  7.265299| 115.73041|            74.2|\n",
      "|                  0.581|  8.917579|   5.484797|  8.668969| 150.04214|            73.2|\n",
      "|                  0.532|  9.999706|   6.295266|  8.582691| 164.30759|            71.0|\n",
      "|                  0.459|  9.351666|   4.248495|  7.600365| 124.57472|            70.9|\n",
      "+-----------------------+----------+-----------+----------+----------+----------------+\n",
      "only showing top 20 rows\n",
      "\n"
     ]
    }
   ],
   "source": [
    "dfm = merged_data1.drop(\"COUNTRY\", \"Year\", \"Population\")\n",
    "dfm.show()"
   ]
  },
  {
   "cell_type": "code",
   "execution_count": 27,
   "metadata": {},
   "outputs": [],
   "source": [
    "assembler = VectorAssembler(inputCols= dfm.columns, outputCol='features')\n",
    "df_final = assembler.transform(dfm)"
   ]
  },
  {
   "cell_type": "code",
   "execution_count": 28,
   "metadata": {},
   "outputs": [],
   "source": [
    "scaler = StandardScaler(inputCol='features', outputCol='scaledFeatures', withStd=True)\n",
    "scaledModel = scaler.fit(df_final)\n",
    "df_final = scaledModel.transform(df_final)\n",
    "#df_final.show()"
   ]
  },
  {
   "cell_type": "code",
   "execution_count": 31,
   "metadata": {},
   "outputs": [],
   "source": [
    "kmeans = KMeans(featuresCol='scaledFeatures', k=4)\n",
    "model = kmeans.fit(df_final)\n",
    "prediction = model.transform(df_final)"
   ]
  },
  {
   "cell_type": "markdown",
   "metadata": {},
   "source": [
    "\n",
    "eval = Evaluator()\n",
    "silihouette = eval.evaluate(prediction)"
   ]
  },
  {
   "cell_type": "markdown",
   "metadata": {},
   "source": [
    "parsedData = dfm.map(lambda line: array([float(x) for x in line.split(' ')]))\n",
    "clusters = KMeans.train(parsedData, 4, maxIterations=10, initializationMode=\"random\")"
   ]
  },
  {
   "cell_type": "markdown",
   "metadata": {},
   "source": []
  },
  {
   "cell_type": "markdown",
   "metadata": {},
   "source": [
    "df3.write.format(\"csv\").option(\"header\",True).mode(\"overwrite\").save(\"./datasets/covid19_output.csv\")"
   ]
  },
  {
   "cell_type": "markdown",
   "metadata": {},
   "source": [
    "covid_output = spark.read.load(\"./datasets/covid19_output.csv\", format=\"csv\", header=\"true\")\n",
    "covid_output.show()"
   ]
  }
 ],
 "metadata": {
  "kernelspec": {
   "display_name": "Python 3",
   "language": "python",
   "name": "python3"
  },
  "language_info": {
   "codemirror_mode": {
    "name": "ipython",
    "version": 3
   },
   "file_extension": ".py",
   "mimetype": "text/x-python",
   "name": "python",
   "nbconvert_exporter": "python",
   "pygments_lexer": "ipython3",
   "version": "3.5.2"
  }
 },
 "nbformat": 4,
 "nbformat_minor": 2
}
